{
 "cells": [
  {
   "cell_type": "code",
   "execution_count": null,
   "metadata": {
    "collapsed": true
   },
   "outputs": [],
   "source": [
    "# Import required libraries\n",
    "\n",
    "import cv2                 # working with, mainly resizing, images\n",
    "import numpy as np\n",
    "import os\n",
    "from random import shuffle # randomizing ordered data\n",
    "from tqdm import tqdm      # a nice pretty percentage bar for tasks.\n"
   ]
  },
  {
   "cell_type": "code",
   "execution_count": null,
   "metadata": {
    "collapsed": true
   },
   "outputs": [],
   "source": [
    "# define variables \n",
    "\n",
    "IMG_WIDTH, IMG_HEIGHT = 100, 100 # dimensions of our images.\n",
    "source_dir_name = '/home/datascience/projects/vsoft/data/new_train'"
   ]
  },
  {
   "cell_type": "code",
   "execution_count": null,
   "metadata": {
    "collapsed": true
   },
   "outputs": [],
   "source": [
    "# One hot encoding of the target colum\n",
    "def label_img(img, word_label):\n",
    "    if word_label == 'Pepperoni': return [1,0]\n",
    "    elif word_label == 'Sausage': return [0,1]"
   ]
  },
  {
   "cell_type": "code",
   "execution_count": null,
   "metadata": {
    "collapsed": true
   },
   "outputs": [],
   "source": [
    "# Create training data\n",
    "def create_train_data(directory='', label='', num_of_images=1000):\n",
    "    training_data = []\n",
    "    if directory=='':\n",
    "        directory = TRAIN_DIR\n",
    "    label_dir = directory+'/'+label\n",
    "    i=0\n",
    "    for img in tqdm(os.listdir(label_dir)):\n",
    "        img_label = label_img(img, label)\n",
    "        path = os.path.join(label_dir,img)\n",
    "        #img = cv2.imread(path,cv2.IMREAD_GRAYSCALE)\n",
    "        img = cv2.imread(path,cv2.IMREAD_COLOR)\n",
    "        #print(img.shape)\n",
    "        img = cv2.resize(img, (IMG_WIDTH, IMG_HEIGHT))\n",
    "        #print(img.shape)\n",
    "        training_data.append([np.array(img),np.array(img_label)])\n",
    "        i=i+1\n",
    "        if i>num_of_images:\n",
    "            break\n",
    "    #print(np.array(training_data).shape)\n",
    "    return training_data"
   ]
  },
  {
   "cell_type": "code",
   "execution_count": null,
   "metadata": {
    "collapsed": false
   },
   "outputs": [],
   "source": [
    "pepperoni_data = create_train_data(source_dir_name,'Pepperoni',1000)"
   ]
  },
  {
   "cell_type": "code",
   "execution_count": null,
   "metadata": {
    "collapsed": false
   },
   "outputs": [],
   "source": [
    "pepperoni_data"
   ]
  },
  {
   "cell_type": "code",
   "execution_count": null,
   "metadata": {
    "collapsed": false
   },
   "outputs": [],
   "source": [
    "np.array(pepperoni_data).shape"
   ]
  },
  {
   "cell_type": "code",
   "execution_count": null,
   "metadata": {
    "collapsed": true
   },
   "outputs": [],
   "source": [
    "np.save('data/pepperoni_rgb_data.npy', pepperoni_data)"
   ]
  },
  {
   "cell_type": "code",
   "execution_count": null,
   "metadata": {
    "collapsed": false
   },
   "outputs": [],
   "source": [
    "sausage_data = create_train_data(source_dir_name,'Sausage',1000)"
   ]
  },
  {
   "cell_type": "code",
   "execution_count": null,
   "metadata": {
    "collapsed": false
   },
   "outputs": [],
   "source": [
    "sausage_data"
   ]
  },
  {
   "cell_type": "code",
   "execution_count": null,
   "metadata": {
    "collapsed": true
   },
   "outputs": [],
   "source": [
    "np.save('data/sausage_rgb_data.npy', sausage_data)"
   ]
  }
 ],
 "metadata": {
  "kernelspec": {
   "display_name": "Python 3",
   "language": "python",
   "name": "python3"
  },
  "language_info": {
   "codemirror_mode": {
    "name": "ipython",
    "version": 3
   },
   "file_extension": ".py",
   "mimetype": "text/x-python",
   "name": "python",
   "nbconvert_exporter": "python",
   "pygments_lexer": "ipython3",
   "version": "3.6.0"
  }
 },
 "nbformat": 4,
 "nbformat_minor": 2
}
